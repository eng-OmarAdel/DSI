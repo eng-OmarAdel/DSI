{
 "cells": [
  {
   "cell_type": "markdown",
   "metadata": {},
   "source": [
    "# Part 1: Modeling Challenge"
   ]
  },
  {
   "cell_type": "markdown",
   "metadata": {},
   "source": [
    "## Python Coding and Data Set"
   ]
  },
  {
   "cell_type": "markdown",
   "metadata": {},
   "source": [
    "### Load in the data file and header file provided"
   ]
  },
  {
   "cell_type": "code",
   "execution_count": 1,
   "metadata": {},
   "outputs": [],
   "source": [
    "import pandas as pd\n",
    "import numpy as np\n",
    "import matplotlib.pyplot as plt\n",
    "%matplotlib inline\n",
    "\n",
    "data= pd.read_csv(\"breast-cancer.csv\", header=None)\n",
    "headers = pd.read_table(\"field_names.txt\", header=None)\n",
    "data.columns=headers[0].values"
   ]
  },
  {
   "cell_type": "code",
   "execution_count": 2,
   "metadata": {},
   "outputs": [
    {
     "data": {
      "text/html": [
       "<div>\n",
       "<style scoped>\n",
       "    .dataframe tbody tr th:only-of-type {\n",
       "        vertical-align: middle;\n",
       "    }\n",
       "\n",
       "    .dataframe tbody tr th {\n",
       "        vertical-align: top;\n",
       "    }\n",
       "\n",
       "    .dataframe thead th {\n",
       "        text-align: right;\n",
       "    }\n",
       "</style>\n",
       "<table border=\"1\" class=\"dataframe\">\n",
       "  <thead>\n",
       "    <tr style=\"text-align: right;\">\n",
       "      <th></th>\n",
       "      <th>ID</th>\n",
       "      <th>diagnosis</th>\n",
       "      <th>radius_mean</th>\n",
       "      <th>radius_sd_error</th>\n",
       "      <th>radius_worst</th>\n",
       "      <th>texture_mean</th>\n",
       "      <th>texture_sd_error</th>\n",
       "      <th>texture_worst</th>\n",
       "      <th>perimeter_mean</th>\n",
       "      <th>perimeter_sd_error</th>\n",
       "      <th>...</th>\n",
       "      <th>concavity_worst</th>\n",
       "      <th>concave_points_mean</th>\n",
       "      <th>concave_points_sd_error</th>\n",
       "      <th>concave_points_worst</th>\n",
       "      <th>symmetry_mean</th>\n",
       "      <th>symmetry_sd_error</th>\n",
       "      <th>symmetry_worst</th>\n",
       "      <th>fractal_dimension_mean</th>\n",
       "      <th>fractal_dimension_sd_error</th>\n",
       "      <th>fractal_dimension_worst</th>\n",
       "    </tr>\n",
       "  </thead>\n",
       "  <tbody>\n",
       "    <tr>\n",
       "      <td>294</td>\n",
       "      <td>891716</td>\n",
       "      <td>B</td>\n",
       "      <td>12.72</td>\n",
       "      <td>13.78</td>\n",
       "      <td>81.78</td>\n",
       "      <td>492.1</td>\n",
       "      <td>0.09667</td>\n",
       "      <td>0.08393</td>\n",
       "      <td>0.01288</td>\n",
       "      <td>0.01924</td>\n",
       "      <td>...</td>\n",
       "      <td>13.50</td>\n",
       "      <td>17.48</td>\n",
       "      <td>88.54</td>\n",
       "      <td>553.7</td>\n",
       "      <td>0.1298</td>\n",
       "      <td>0.1472</td>\n",
       "      <td>0.05233</td>\n",
       "      <td>0.06343</td>\n",
       "      <td>0.2369</td>\n",
       "      <td>0.06922</td>\n",
       "    </tr>\n",
       "    <tr>\n",
       "      <td>196</td>\n",
       "      <td>875938</td>\n",
       "      <td>M</td>\n",
       "      <td>13.77</td>\n",
       "      <td>22.29</td>\n",
       "      <td>90.63</td>\n",
       "      <td>588.9</td>\n",
       "      <td>0.12000</td>\n",
       "      <td>0.12670</td>\n",
       "      <td>0.13850</td>\n",
       "      <td>0.06526</td>\n",
       "      <td>...</td>\n",
       "      <td>16.39</td>\n",
       "      <td>34.01</td>\n",
       "      <td>111.60</td>\n",
       "      <td>806.9</td>\n",
       "      <td>0.1737</td>\n",
       "      <td>0.3122</td>\n",
       "      <td>0.38090</td>\n",
       "      <td>0.16730</td>\n",
       "      <td>0.3080</td>\n",
       "      <td>0.09333</td>\n",
       "    </tr>\n",
       "    <tr>\n",
       "      <td>19</td>\n",
       "      <td>8510426</td>\n",
       "      <td>B</td>\n",
       "      <td>13.54</td>\n",
       "      <td>14.36</td>\n",
       "      <td>87.46</td>\n",
       "      <td>566.3</td>\n",
       "      <td>0.09779</td>\n",
       "      <td>0.08129</td>\n",
       "      <td>0.06664</td>\n",
       "      <td>0.04781</td>\n",
       "      <td>...</td>\n",
       "      <td>15.11</td>\n",
       "      <td>19.26</td>\n",
       "      <td>99.70</td>\n",
       "      <td>711.2</td>\n",
       "      <td>0.1440</td>\n",
       "      <td>0.1773</td>\n",
       "      <td>0.23900</td>\n",
       "      <td>0.12880</td>\n",
       "      <td>0.2977</td>\n",
       "      <td>0.07259</td>\n",
       "    </tr>\n",
       "    <tr>\n",
       "      <td>534</td>\n",
       "      <td>919537</td>\n",
       "      <td>B</td>\n",
       "      <td>10.96</td>\n",
       "      <td>17.62</td>\n",
       "      <td>70.79</td>\n",
       "      <td>365.6</td>\n",
       "      <td>0.09687</td>\n",
       "      <td>0.09752</td>\n",
       "      <td>0.05263</td>\n",
       "      <td>0.02788</td>\n",
       "      <td>...</td>\n",
       "      <td>11.62</td>\n",
       "      <td>26.51</td>\n",
       "      <td>76.43</td>\n",
       "      <td>407.5</td>\n",
       "      <td>0.1428</td>\n",
       "      <td>0.2510</td>\n",
       "      <td>0.21230</td>\n",
       "      <td>0.09861</td>\n",
       "      <td>0.2289</td>\n",
       "      <td>0.08278</td>\n",
       "    </tr>\n",
       "    <tr>\n",
       "      <td>210</td>\n",
       "      <td>881046502</td>\n",
       "      <td>M</td>\n",
       "      <td>20.58</td>\n",
       "      <td>22.14</td>\n",
       "      <td>134.70</td>\n",
       "      <td>1290.0</td>\n",
       "      <td>0.09090</td>\n",
       "      <td>0.13480</td>\n",
       "      <td>0.16400</td>\n",
       "      <td>0.09561</td>\n",
       "      <td>...</td>\n",
       "      <td>23.24</td>\n",
       "      <td>27.84</td>\n",
       "      <td>158.30</td>\n",
       "      <td>1656.0</td>\n",
       "      <td>0.1178</td>\n",
       "      <td>0.2920</td>\n",
       "      <td>0.38610</td>\n",
       "      <td>0.19200</td>\n",
       "      <td>0.2909</td>\n",
       "      <td>0.05865</td>\n",
       "    </tr>\n",
       "  </tbody>\n",
       "</table>\n",
       "<p>5 rows × 32 columns</p>\n",
       "</div>"
      ],
      "text/plain": [
       "            ID diagnosis  radius_mean  radius_sd_error  radius_worst  \\\n",
       "294     891716         B        12.72            13.78         81.78   \n",
       "196     875938         M        13.77            22.29         90.63   \n",
       "19     8510426         B        13.54            14.36         87.46   \n",
       "534     919537         B        10.96            17.62         70.79   \n",
       "210  881046502         M        20.58            22.14        134.70   \n",
       "\n",
       "     texture_mean  texture_sd_error  texture_worst  perimeter_mean  \\\n",
       "294         492.1           0.09667        0.08393         0.01288   \n",
       "196         588.9           0.12000        0.12670         0.13850   \n",
       "19          566.3           0.09779        0.08129         0.06664   \n",
       "534         365.6           0.09687        0.09752         0.05263   \n",
       "210        1290.0           0.09090        0.13480         0.16400   \n",
       "\n",
       "     perimeter_sd_error  ...  concavity_worst  concave_points_mean  \\\n",
       "294             0.01924  ...            13.50                17.48   \n",
       "196             0.06526  ...            16.39                34.01   \n",
       "19              0.04781  ...            15.11                19.26   \n",
       "534             0.02788  ...            11.62                26.51   \n",
       "210             0.09561  ...            23.24                27.84   \n",
       "\n",
       "     concave_points_sd_error  concave_points_worst  symmetry_mean  \\\n",
       "294                    88.54                 553.7         0.1298   \n",
       "196                   111.60                 806.9         0.1737   \n",
       "19                     99.70                 711.2         0.1440   \n",
       "534                    76.43                 407.5         0.1428   \n",
       "210                   158.30                1656.0         0.1178   \n",
       "\n",
       "     symmetry_sd_error  symmetry_worst  fractal_dimension_mean  \\\n",
       "294             0.1472         0.05233                 0.06343   \n",
       "196             0.3122         0.38090                 0.16730   \n",
       "19              0.1773         0.23900                 0.12880   \n",
       "534             0.2510         0.21230                 0.09861   \n",
       "210             0.2920         0.38610                 0.19200   \n",
       "\n",
       "     fractal_dimension_sd_error  fractal_dimension_worst  \n",
       "294                      0.2369                  0.06922  \n",
       "196                      0.3080                  0.09333  \n",
       "19                       0.2977                  0.07259  \n",
       "534                      0.2289                  0.08278  \n",
       "210                      0.2909                  0.05865  \n",
       "\n",
       "[5 rows x 32 columns]"
      ]
     },
     "execution_count": 2,
     "metadata": {},
     "output_type": "execute_result"
    }
   ],
   "source": [
    "data.sample(5)"
   ]
  },
  {
   "cell_type": "markdown",
   "metadata": {},
   "source": [
    "### Comment on any steps you might take to evaluate or transform the dataset."
   ]
  },
  {
   "cell_type": "markdown",
   "metadata": {},
   "source": [
    "Checking for null values"
   ]
  },
  {
   "cell_type": "code",
   "execution_count": 3,
   "metadata": {},
   "outputs": [
    {
     "data": {
      "text/plain": [
       "ID                            0\n",
       "diagnosis                     0\n",
       "radius_mean                   0\n",
       "radius_sd_error               0\n",
       "radius_worst                  0\n",
       "texture_mean                  0\n",
       "texture_sd_error              0\n",
       "texture_worst                 0\n",
       "perimeter_mean                0\n",
       "perimeter_sd_error            0\n",
       "perimeter_worst               0\n",
       "area_mean                     0\n",
       "area_sd_error                 0\n",
       "area_worst                    0\n",
       "smoothness_mean               0\n",
       "smoothness_sd_error           0\n",
       "smoothness_worst              0\n",
       "compactness_mean              0\n",
       "compactness_sd_error          0\n",
       "compactness_worst             0\n",
       "concavity_mean                0\n",
       "concavity_sd_error            0\n",
       "concavity_worst               0\n",
       "concave_points_mean           0\n",
       "concave_points_sd_error       0\n",
       "concave_points_worst          0\n",
       "symmetry_mean                 0\n",
       "symmetry_sd_error             0\n",
       "symmetry_worst                0\n",
       "fractal_dimension_mean        0\n",
       "fractal_dimension_sd_error    0\n",
       "fractal_dimension_worst       0\n",
       "dtype: int64"
      ]
     },
     "execution_count": 3,
     "metadata": {},
     "output_type": "execute_result"
    }
   ],
   "source": [
    "data.isna().sum()"
   ]
  },
  {
   "cell_type": "markdown",
   "metadata": {},
   "source": [
    "- For the categorical values we will need to do some kind of encoding depending on the number of categories\n",
    "- For the numrical values we might need to do some kind of normalization depending on the used mode and whether it's affected by it or not."
   ]
  },
  {
   "cell_type": "code",
   "execution_count": 4,
   "metadata": {},
   "outputs": [],
   "source": [
    "diagnosisMap={\"M\":1,\"B\":0}\n",
    "data[\"diagnosis\"].replace(diagnosisMap, inplace=True)"
   ]
  },
  {
   "cell_type": "code",
   "execution_count": 5,
   "metadata": {},
   "outputs": [
    {
     "data": {
      "text/html": [
       "<div>\n",
       "<style scoped>\n",
       "    .dataframe tbody tr th:only-of-type {\n",
       "        vertical-align: middle;\n",
       "    }\n",
       "\n",
       "    .dataframe tbody tr th {\n",
       "        vertical-align: top;\n",
       "    }\n",
       "\n",
       "    .dataframe thead th {\n",
       "        text-align: right;\n",
       "    }\n",
       "</style>\n",
       "<table border=\"1\" class=\"dataframe\">\n",
       "  <thead>\n",
       "    <tr style=\"text-align: right;\">\n",
       "      <th></th>\n",
       "      <th>ID</th>\n",
       "      <th>diagnosis</th>\n",
       "      <th>radius_mean</th>\n",
       "      <th>radius_sd_error</th>\n",
       "      <th>radius_worst</th>\n",
       "      <th>texture_mean</th>\n",
       "      <th>texture_sd_error</th>\n",
       "      <th>texture_worst</th>\n",
       "      <th>perimeter_mean</th>\n",
       "      <th>perimeter_sd_error</th>\n",
       "      <th>...</th>\n",
       "      <th>concavity_worst</th>\n",
       "      <th>concave_points_mean</th>\n",
       "      <th>concave_points_sd_error</th>\n",
       "      <th>concave_points_worst</th>\n",
       "      <th>symmetry_mean</th>\n",
       "      <th>symmetry_sd_error</th>\n",
       "      <th>symmetry_worst</th>\n",
       "      <th>fractal_dimension_mean</th>\n",
       "      <th>fractal_dimension_sd_error</th>\n",
       "      <th>fractal_dimension_worst</th>\n",
       "    </tr>\n",
       "  </thead>\n",
       "  <tbody>\n",
       "    <tr>\n",
       "      <td>568</td>\n",
       "      <td>92751</td>\n",
       "      <td>0</td>\n",
       "      <td>7.760</td>\n",
       "      <td>24.54</td>\n",
       "      <td>47.92</td>\n",
       "      <td>181.0</td>\n",
       "      <td>0.05263</td>\n",
       "      <td>0.04362</td>\n",
       "      <td>0.000000</td>\n",
       "      <td>0.000000</td>\n",
       "      <td>...</td>\n",
       "      <td>9.456</td>\n",
       "      <td>30.37</td>\n",
       "      <td>59.16</td>\n",
       "      <td>268.6</td>\n",
       "      <td>0.08996</td>\n",
       "      <td>0.06444</td>\n",
       "      <td>0.00000</td>\n",
       "      <td>0.00000</td>\n",
       "      <td>0.2871</td>\n",
       "      <td>0.07039</td>\n",
       "    </tr>\n",
       "    <tr>\n",
       "      <td>493</td>\n",
       "      <td>914101</td>\n",
       "      <td>0</td>\n",
       "      <td>12.460</td>\n",
       "      <td>12.83</td>\n",
       "      <td>78.83</td>\n",
       "      <td>477.3</td>\n",
       "      <td>0.07372</td>\n",
       "      <td>0.04043</td>\n",
       "      <td>0.007173</td>\n",
       "      <td>0.011490</td>\n",
       "      <td>...</td>\n",
       "      <td>13.190</td>\n",
       "      <td>16.36</td>\n",
       "      <td>83.24</td>\n",
       "      <td>534.0</td>\n",
       "      <td>0.09439</td>\n",
       "      <td>0.06477</td>\n",
       "      <td>0.01674</td>\n",
       "      <td>0.02680</td>\n",
       "      <td>0.2280</td>\n",
       "      <td>0.07028</td>\n",
       "    </tr>\n",
       "    <tr>\n",
       "      <td>211</td>\n",
       "      <td>8810528</td>\n",
       "      <td>0</td>\n",
       "      <td>11.840</td>\n",
       "      <td>18.94</td>\n",
       "      <td>75.51</td>\n",
       "      <td>428.0</td>\n",
       "      <td>0.08871</td>\n",
       "      <td>0.06900</td>\n",
       "      <td>0.026690</td>\n",
       "      <td>0.013930</td>\n",
       "      <td>...</td>\n",
       "      <td>13.300</td>\n",
       "      <td>24.99</td>\n",
       "      <td>85.22</td>\n",
       "      <td>546.3</td>\n",
       "      <td>0.12800</td>\n",
       "      <td>0.18800</td>\n",
       "      <td>0.14710</td>\n",
       "      <td>0.06913</td>\n",
       "      <td>0.2535</td>\n",
       "      <td>0.07993</td>\n",
       "    </tr>\n",
       "    <tr>\n",
       "      <td>229</td>\n",
       "      <td>881861</td>\n",
       "      <td>1</td>\n",
       "      <td>12.830</td>\n",
       "      <td>22.33</td>\n",
       "      <td>85.26</td>\n",
       "      <td>503.2</td>\n",
       "      <td>0.10880</td>\n",
       "      <td>0.17990</td>\n",
       "      <td>0.169500</td>\n",
       "      <td>0.068610</td>\n",
       "      <td>...</td>\n",
       "      <td>15.200</td>\n",
       "      <td>30.15</td>\n",
       "      <td>105.30</td>\n",
       "      <td>706.0</td>\n",
       "      <td>0.17770</td>\n",
       "      <td>0.53430</td>\n",
       "      <td>0.62820</td>\n",
       "      <td>0.19770</td>\n",
       "      <td>0.3407</td>\n",
       "      <td>0.12430</td>\n",
       "    </tr>\n",
       "    <tr>\n",
       "      <td>186</td>\n",
       "      <td>874217</td>\n",
       "      <td>1</td>\n",
       "      <td>18.310</td>\n",
       "      <td>18.58</td>\n",
       "      <td>118.60</td>\n",
       "      <td>1041.0</td>\n",
       "      <td>0.08588</td>\n",
       "      <td>0.08468</td>\n",
       "      <td>0.081690</td>\n",
       "      <td>0.058140</td>\n",
       "      <td>...</td>\n",
       "      <td>21.310</td>\n",
       "      <td>26.36</td>\n",
       "      <td>139.20</td>\n",
       "      <td>1410.0</td>\n",
       "      <td>0.12340</td>\n",
       "      <td>0.24450</td>\n",
       "      <td>0.35380</td>\n",
       "      <td>0.15710</td>\n",
       "      <td>0.3206</td>\n",
       "      <td>0.06938</td>\n",
       "    </tr>\n",
       "    <tr>\n",
       "      <td>525</td>\n",
       "      <td>91805</td>\n",
       "      <td>0</td>\n",
       "      <td>8.571</td>\n",
       "      <td>13.10</td>\n",
       "      <td>54.53</td>\n",
       "      <td>221.3</td>\n",
       "      <td>0.10360</td>\n",
       "      <td>0.07632</td>\n",
       "      <td>0.025650</td>\n",
       "      <td>0.015100</td>\n",
       "      <td>...</td>\n",
       "      <td>9.473</td>\n",
       "      <td>18.45</td>\n",
       "      <td>63.30</td>\n",
       "      <td>275.6</td>\n",
       "      <td>0.16410</td>\n",
       "      <td>0.22350</td>\n",
       "      <td>0.17540</td>\n",
       "      <td>0.08512</td>\n",
       "      <td>0.2983</td>\n",
       "      <td>0.10490</td>\n",
       "    </tr>\n",
       "    <tr>\n",
       "      <td>416</td>\n",
       "      <td>905978</td>\n",
       "      <td>0</td>\n",
       "      <td>9.405</td>\n",
       "      <td>21.70</td>\n",
       "      <td>59.60</td>\n",
       "      <td>271.2</td>\n",
       "      <td>0.10440</td>\n",
       "      <td>0.06159</td>\n",
       "      <td>0.020470</td>\n",
       "      <td>0.012570</td>\n",
       "      <td>...</td>\n",
       "      <td>10.850</td>\n",
       "      <td>31.24</td>\n",
       "      <td>68.73</td>\n",
       "      <td>359.4</td>\n",
       "      <td>0.15260</td>\n",
       "      <td>0.11930</td>\n",
       "      <td>0.06141</td>\n",
       "      <td>0.03770</td>\n",
       "      <td>0.2872</td>\n",
       "      <td>0.08304</td>\n",
       "    </tr>\n",
       "    <tr>\n",
       "      <td>96</td>\n",
       "      <td>86211</td>\n",
       "      <td>0</td>\n",
       "      <td>12.180</td>\n",
       "      <td>17.84</td>\n",
       "      <td>77.79</td>\n",
       "      <td>451.1</td>\n",
       "      <td>0.10450</td>\n",
       "      <td>0.07057</td>\n",
       "      <td>0.024900</td>\n",
       "      <td>0.029410</td>\n",
       "      <td>...</td>\n",
       "      <td>12.830</td>\n",
       "      <td>20.92</td>\n",
       "      <td>82.14</td>\n",
       "      <td>495.2</td>\n",
       "      <td>0.11400</td>\n",
       "      <td>0.09358</td>\n",
       "      <td>0.04980</td>\n",
       "      <td>0.05882</td>\n",
       "      <td>0.2227</td>\n",
       "      <td>0.07376</td>\n",
       "    </tr>\n",
       "    <tr>\n",
       "      <td>334</td>\n",
       "      <td>897374</td>\n",
       "      <td>0</td>\n",
       "      <td>12.300</td>\n",
       "      <td>19.02</td>\n",
       "      <td>77.88</td>\n",
       "      <td>464.4</td>\n",
       "      <td>0.08313</td>\n",
       "      <td>0.04202</td>\n",
       "      <td>0.007756</td>\n",
       "      <td>0.008535</td>\n",
       "      <td>...</td>\n",
       "      <td>13.350</td>\n",
       "      <td>28.46</td>\n",
       "      <td>84.53</td>\n",
       "      <td>544.3</td>\n",
       "      <td>0.12220</td>\n",
       "      <td>0.09052</td>\n",
       "      <td>0.03619</td>\n",
       "      <td>0.03983</td>\n",
       "      <td>0.2554</td>\n",
       "      <td>0.07207</td>\n",
       "    </tr>\n",
       "    <tr>\n",
       "      <td>358</td>\n",
       "      <td>9010333</td>\n",
       "      <td>0</td>\n",
       "      <td>8.878</td>\n",
       "      <td>15.49</td>\n",
       "      <td>56.74</td>\n",
       "      <td>241.0</td>\n",
       "      <td>0.08293</td>\n",
       "      <td>0.07698</td>\n",
       "      <td>0.047210</td>\n",
       "      <td>0.023810</td>\n",
       "      <td>...</td>\n",
       "      <td>9.981</td>\n",
       "      <td>17.70</td>\n",
       "      <td>65.27</td>\n",
       "      <td>302.0</td>\n",
       "      <td>0.10150</td>\n",
       "      <td>0.12480</td>\n",
       "      <td>0.09441</td>\n",
       "      <td>0.04762</td>\n",
       "      <td>0.2434</td>\n",
       "      <td>0.07431</td>\n",
       "    </tr>\n",
       "  </tbody>\n",
       "</table>\n",
       "<p>10 rows × 32 columns</p>\n",
       "</div>"
      ],
      "text/plain": [
       "          ID  diagnosis  radius_mean  radius_sd_error  radius_worst  \\\n",
       "568    92751          0        7.760            24.54         47.92   \n",
       "493   914101          0       12.460            12.83         78.83   \n",
       "211  8810528          0       11.840            18.94         75.51   \n",
       "229   881861          1       12.830            22.33         85.26   \n",
       "186   874217          1       18.310            18.58        118.60   \n",
       "525    91805          0        8.571            13.10         54.53   \n",
       "416   905978          0        9.405            21.70         59.60   \n",
       "96     86211          0       12.180            17.84         77.79   \n",
       "334   897374          0       12.300            19.02         77.88   \n",
       "358  9010333          0        8.878            15.49         56.74   \n",
       "\n",
       "     texture_mean  texture_sd_error  texture_worst  perimeter_mean  \\\n",
       "568         181.0           0.05263        0.04362        0.000000   \n",
       "493         477.3           0.07372        0.04043        0.007173   \n",
       "211         428.0           0.08871        0.06900        0.026690   \n",
       "229         503.2           0.10880        0.17990        0.169500   \n",
       "186        1041.0           0.08588        0.08468        0.081690   \n",
       "525         221.3           0.10360        0.07632        0.025650   \n",
       "416         271.2           0.10440        0.06159        0.020470   \n",
       "96          451.1           0.10450        0.07057        0.024900   \n",
       "334         464.4           0.08313        0.04202        0.007756   \n",
       "358         241.0           0.08293        0.07698        0.047210   \n",
       "\n",
       "     perimeter_sd_error  ...  concavity_worst  concave_points_mean  \\\n",
       "568            0.000000  ...            9.456                30.37   \n",
       "493            0.011490  ...           13.190                16.36   \n",
       "211            0.013930  ...           13.300                24.99   \n",
       "229            0.068610  ...           15.200                30.15   \n",
       "186            0.058140  ...           21.310                26.36   \n",
       "525            0.015100  ...            9.473                18.45   \n",
       "416            0.012570  ...           10.850                31.24   \n",
       "96             0.029410  ...           12.830                20.92   \n",
       "334            0.008535  ...           13.350                28.46   \n",
       "358            0.023810  ...            9.981                17.70   \n",
       "\n",
       "     concave_points_sd_error  concave_points_worst  symmetry_mean  \\\n",
       "568                    59.16                 268.6        0.08996   \n",
       "493                    83.24                 534.0        0.09439   \n",
       "211                    85.22                 546.3        0.12800   \n",
       "229                   105.30                 706.0        0.17770   \n",
       "186                   139.20                1410.0        0.12340   \n",
       "525                    63.30                 275.6        0.16410   \n",
       "416                    68.73                 359.4        0.15260   \n",
       "96                     82.14                 495.2        0.11400   \n",
       "334                    84.53                 544.3        0.12220   \n",
       "358                    65.27                 302.0        0.10150   \n",
       "\n",
       "     symmetry_sd_error  symmetry_worst  fractal_dimension_mean  \\\n",
       "568            0.06444         0.00000                 0.00000   \n",
       "493            0.06477         0.01674                 0.02680   \n",
       "211            0.18800         0.14710                 0.06913   \n",
       "229            0.53430         0.62820                 0.19770   \n",
       "186            0.24450         0.35380                 0.15710   \n",
       "525            0.22350         0.17540                 0.08512   \n",
       "416            0.11930         0.06141                 0.03770   \n",
       "96             0.09358         0.04980                 0.05882   \n",
       "334            0.09052         0.03619                 0.03983   \n",
       "358            0.12480         0.09441                 0.04762   \n",
       "\n",
       "     fractal_dimension_sd_error  fractal_dimension_worst  \n",
       "568                      0.2871                  0.07039  \n",
       "493                      0.2280                  0.07028  \n",
       "211                      0.2535                  0.07993  \n",
       "229                      0.3407                  0.12430  \n",
       "186                      0.3206                  0.06938  \n",
       "525                      0.2983                  0.10490  \n",
       "416                      0.2872                  0.08304  \n",
       "96                       0.2227                  0.07376  \n",
       "334                      0.2554                  0.07207  \n",
       "358                      0.2434                  0.07431  \n",
       "\n",
       "[10 rows x 32 columns]"
      ]
     },
     "execution_count": 5,
     "metadata": {},
     "output_type": "execute_result"
    }
   ],
   "source": [
    "data.sample(10)"
   ]
  },
  {
   "cell_type": "code",
   "execution_count": 15,
   "metadata": {},
   "outputs": [
    {
     "data": {
      "text/plain": [
       "0    357\n",
       "1    212\n",
       "Name: diagnosis, dtype: int64"
      ]
     },
     "execution_count": 15,
     "metadata": {},
     "output_type": "execute_result"
    }
   ],
   "source": [
    "data[\"diagnosis\"].value_counts()"
   ]
  },
  {
   "cell_type": "markdown",
   "metadata": {},
   "source": [
    "our data is not highly imbalanced so that's good"
   ]
  },
  {
   "cell_type": "markdown",
   "metadata": {},
   "source": [
    "### Compute the mean and median smoothness and compactness for benign and malignant tumors"
   ]
  },
  {
   "cell_type": "code",
   "execution_count": 6,
   "metadata": {},
   "outputs": [
    {
     "name": "stdout",
     "output_type": "stream",
     "text": [
      "Mean for smoothness\n",
      "diagnosis\n",
      "0    2.000321\n",
      "1    4.323929\n",
      "Name: smoothness_mean, dtype: float64\n",
      "Mean for compactness\n",
      "diagnosis\n",
      "0    0.021438\n",
      "1    0.032281\n",
      "Name: compactness_mean, dtype: float64\n"
     ]
    }
   ],
   "source": [
    "groupedData = data.groupby(\"diagnosis\")\n",
    "print (\"Mean for smoothness\")\n",
    "smoothnessMean = groupedData[\"smoothness_mean\"].mean()\n",
    "print(smoothnessMean)\n",
    "print (\"Mean for compactness\")\n",
    "compactnessMean = groupedData[\"compactness_mean\"].mean()\n",
    "print(compactnessMean)"
   ]
  },
  {
   "cell_type": "code",
   "execution_count": 7,
   "metadata": {},
   "outputs": [
    {
     "name": "stdout",
     "output_type": "stream",
     "text": [
      "Median for smoothness\n",
      "diagnosis\n",
      "0    1.8510\n",
      "1    3.6795\n",
      "Name: smoothness_mean, dtype: float64\n",
      "Median for compactness\n",
      "diagnosis\n",
      "0    0.01631\n",
      "1    0.02859\n",
      "Name: compactness_mean, dtype: float64\n"
     ]
    }
   ],
   "source": [
    "print (\"Median for smoothness\")\n",
    "smoothnessMedian = groupedData[\"smoothness_mean\"].median()\n",
    "print(smoothnessMedian)\n",
    "print (\"Median for compactness\")\n",
    "compactnessMedian = groupedData[\"compactness_mean\"].median()\n",
    "print(compactnessMedian)"
   ]
  },
  {
   "cell_type": "markdown",
   "metadata": {},
   "source": [
    "### Write a function to generate bootstrap samples of the data."
   ]
  },
  {
   "cell_type": "code",
   "execution_count": 8,
   "metadata": {},
   "outputs": [
    {
     "data": {
      "text/html": [
       "<div>\n",
       "<style scoped>\n",
       "    .dataframe tbody tr th:only-of-type {\n",
       "        vertical-align: middle;\n",
       "    }\n",
       "\n",
       "    .dataframe tbody tr th {\n",
       "        vertical-align: top;\n",
       "    }\n",
       "\n",
       "    .dataframe thead th {\n",
       "        text-align: right;\n",
       "    }\n",
       "</style>\n",
       "<table border=\"1\" class=\"dataframe\">\n",
       "  <thead>\n",
       "    <tr style=\"text-align: right;\">\n",
       "      <th></th>\n",
       "      <th>ID</th>\n",
       "      <th>diagnosis</th>\n",
       "      <th>radius_mean</th>\n",
       "      <th>radius_sd_error</th>\n",
       "      <th>radius_worst</th>\n",
       "      <th>texture_mean</th>\n",
       "      <th>texture_sd_error</th>\n",
       "      <th>texture_worst</th>\n",
       "      <th>perimeter_mean</th>\n",
       "      <th>perimeter_sd_error</th>\n",
       "      <th>...</th>\n",
       "      <th>concavity_worst</th>\n",
       "      <th>concave_points_mean</th>\n",
       "      <th>concave_points_sd_error</th>\n",
       "      <th>concave_points_worst</th>\n",
       "      <th>symmetry_mean</th>\n",
       "      <th>symmetry_sd_error</th>\n",
       "      <th>symmetry_worst</th>\n",
       "      <th>fractal_dimension_mean</th>\n",
       "      <th>fractal_dimension_sd_error</th>\n",
       "      <th>fractal_dimension_worst</th>\n",
       "    </tr>\n",
       "  </thead>\n",
       "  <tbody>\n",
       "    <tr>\n",
       "      <td>28</td>\n",
       "      <td>852973</td>\n",
       "      <td>1</td>\n",
       "      <td>15.30</td>\n",
       "      <td>25.27</td>\n",
       "      <td>102.40</td>\n",
       "      <td>732.4</td>\n",
       "      <td>0.10820</td>\n",
       "      <td>0.16970</td>\n",
       "      <td>0.16830</td>\n",
       "      <td>0.08751</td>\n",
       "      <td>...</td>\n",
       "      <td>20.27</td>\n",
       "      <td>36.71</td>\n",
       "      <td>149.30</td>\n",
       "      <td>1269.0</td>\n",
       "      <td>0.16410</td>\n",
       "      <td>0.6110</td>\n",
       "      <td>0.6335</td>\n",
       "      <td>0.20240</td>\n",
       "      <td>0.4027</td>\n",
       "      <td>0.09876</td>\n",
       "    </tr>\n",
       "    <tr>\n",
       "      <td>328</td>\n",
       "      <td>8953902</td>\n",
       "      <td>1</td>\n",
       "      <td>16.27</td>\n",
       "      <td>20.71</td>\n",
       "      <td>106.90</td>\n",
       "      <td>813.7</td>\n",
       "      <td>0.11690</td>\n",
       "      <td>0.13190</td>\n",
       "      <td>0.14780</td>\n",
       "      <td>0.08488</td>\n",
       "      <td>...</td>\n",
       "      <td>19.28</td>\n",
       "      <td>30.38</td>\n",
       "      <td>129.80</td>\n",
       "      <td>1121.0</td>\n",
       "      <td>0.15900</td>\n",
       "      <td>0.2947</td>\n",
       "      <td>0.3597</td>\n",
       "      <td>0.15830</td>\n",
       "      <td>0.3103</td>\n",
       "      <td>0.08200</td>\n",
       "    </tr>\n",
       "    <tr>\n",
       "      <td>11</td>\n",
       "      <td>84610002</td>\n",
       "      <td>1</td>\n",
       "      <td>15.78</td>\n",
       "      <td>17.89</td>\n",
       "      <td>103.60</td>\n",
       "      <td>781.0</td>\n",
       "      <td>0.09710</td>\n",
       "      <td>0.12920</td>\n",
       "      <td>0.09954</td>\n",
       "      <td>0.06606</td>\n",
       "      <td>...</td>\n",
       "      <td>20.42</td>\n",
       "      <td>27.28</td>\n",
       "      <td>136.50</td>\n",
       "      <td>1299.0</td>\n",
       "      <td>0.13960</td>\n",
       "      <td>0.5609</td>\n",
       "      <td>0.3965</td>\n",
       "      <td>0.18100</td>\n",
       "      <td>0.3792</td>\n",
       "      <td>0.10480</td>\n",
       "    </tr>\n",
       "    <tr>\n",
       "      <td>551</td>\n",
       "      <td>923780</td>\n",
       "      <td>0</td>\n",
       "      <td>11.13</td>\n",
       "      <td>22.44</td>\n",
       "      <td>71.49</td>\n",
       "      <td>378.4</td>\n",
       "      <td>0.09566</td>\n",
       "      <td>0.08194</td>\n",
       "      <td>0.04824</td>\n",
       "      <td>0.02257</td>\n",
       "      <td>...</td>\n",
       "      <td>12.02</td>\n",
       "      <td>28.26</td>\n",
       "      <td>77.80</td>\n",
       "      <td>436.6</td>\n",
       "      <td>0.10870</td>\n",
       "      <td>0.1782</td>\n",
       "      <td>0.1564</td>\n",
       "      <td>0.06413</td>\n",
       "      <td>0.3169</td>\n",
       "      <td>0.08032</td>\n",
       "    </tr>\n",
       "    <tr>\n",
       "      <td>478</td>\n",
       "      <td>911685</td>\n",
       "      <td>0</td>\n",
       "      <td>11.49</td>\n",
       "      <td>14.59</td>\n",
       "      <td>73.99</td>\n",
       "      <td>404.9</td>\n",
       "      <td>0.10460</td>\n",
       "      <td>0.08228</td>\n",
       "      <td>0.05308</td>\n",
       "      <td>0.01969</td>\n",
       "      <td>...</td>\n",
       "      <td>12.40</td>\n",
       "      <td>21.90</td>\n",
       "      <td>82.04</td>\n",
       "      <td>467.6</td>\n",
       "      <td>0.13520</td>\n",
       "      <td>0.2010</td>\n",
       "      <td>0.2596</td>\n",
       "      <td>0.07431</td>\n",
       "      <td>0.2941</td>\n",
       "      <td>0.09180</td>\n",
       "    </tr>\n",
       "    <tr>\n",
       "      <td>...</td>\n",
       "      <td>...</td>\n",
       "      <td>...</td>\n",
       "      <td>...</td>\n",
       "      <td>...</td>\n",
       "      <td>...</td>\n",
       "      <td>...</td>\n",
       "      <td>...</td>\n",
       "      <td>...</td>\n",
       "      <td>...</td>\n",
       "      <td>...</td>\n",
       "      <td>...</td>\n",
       "      <td>...</td>\n",
       "      <td>...</td>\n",
       "      <td>...</td>\n",
       "      <td>...</td>\n",
       "      <td>...</td>\n",
       "      <td>...</td>\n",
       "      <td>...</td>\n",
       "      <td>...</td>\n",
       "      <td>...</td>\n",
       "      <td>...</td>\n",
       "    </tr>\n",
       "    <tr>\n",
       "      <td>290</td>\n",
       "      <td>89143602</td>\n",
       "      <td>0</td>\n",
       "      <td>14.41</td>\n",
       "      <td>19.73</td>\n",
       "      <td>96.03</td>\n",
       "      <td>651.0</td>\n",
       "      <td>0.08757</td>\n",
       "      <td>0.16760</td>\n",
       "      <td>0.13620</td>\n",
       "      <td>0.06602</td>\n",
       "      <td>...</td>\n",
       "      <td>15.77</td>\n",
       "      <td>22.13</td>\n",
       "      <td>101.70</td>\n",
       "      <td>767.3</td>\n",
       "      <td>0.09983</td>\n",
       "      <td>0.2472</td>\n",
       "      <td>0.2220</td>\n",
       "      <td>0.10210</td>\n",
       "      <td>0.2272</td>\n",
       "      <td>0.08799</td>\n",
       "    </tr>\n",
       "    <tr>\n",
       "      <td>205</td>\n",
       "      <td>879523</td>\n",
       "      <td>1</td>\n",
       "      <td>15.12</td>\n",
       "      <td>16.68</td>\n",
       "      <td>98.78</td>\n",
       "      <td>716.6</td>\n",
       "      <td>0.08876</td>\n",
       "      <td>0.09588</td>\n",
       "      <td>0.07550</td>\n",
       "      <td>0.04079</td>\n",
       "      <td>...</td>\n",
       "      <td>17.77</td>\n",
       "      <td>20.24</td>\n",
       "      <td>117.70</td>\n",
       "      <td>989.5</td>\n",
       "      <td>0.14910</td>\n",
       "      <td>0.3331</td>\n",
       "      <td>0.3327</td>\n",
       "      <td>0.12520</td>\n",
       "      <td>0.3415</td>\n",
       "      <td>0.09740</td>\n",
       "    </tr>\n",
       "    <tr>\n",
       "      <td>65</td>\n",
       "      <td>859283</td>\n",
       "      <td>1</td>\n",
       "      <td>14.78</td>\n",
       "      <td>23.94</td>\n",
       "      <td>97.40</td>\n",
       "      <td>668.3</td>\n",
       "      <td>0.11720</td>\n",
       "      <td>0.14790</td>\n",
       "      <td>0.12670</td>\n",
       "      <td>0.09029</td>\n",
       "      <td>...</td>\n",
       "      <td>17.31</td>\n",
       "      <td>33.39</td>\n",
       "      <td>114.60</td>\n",
       "      <td>925.1</td>\n",
       "      <td>0.16480</td>\n",
       "      <td>0.3416</td>\n",
       "      <td>0.3024</td>\n",
       "      <td>0.16140</td>\n",
       "      <td>0.3321</td>\n",
       "      <td>0.08911</td>\n",
       "    </tr>\n",
       "    <tr>\n",
       "      <td>499</td>\n",
       "      <td>91485</td>\n",
       "      <td>1</td>\n",
       "      <td>20.59</td>\n",
       "      <td>21.24</td>\n",
       "      <td>137.80</td>\n",
       "      <td>1320.0</td>\n",
       "      <td>0.10850</td>\n",
       "      <td>0.16440</td>\n",
       "      <td>0.21880</td>\n",
       "      <td>0.11210</td>\n",
       "      <td>...</td>\n",
       "      <td>23.86</td>\n",
       "      <td>30.76</td>\n",
       "      <td>163.20</td>\n",
       "      <td>1760.0</td>\n",
       "      <td>0.14640</td>\n",
       "      <td>0.3597</td>\n",
       "      <td>0.5179</td>\n",
       "      <td>0.21130</td>\n",
       "      <td>0.2480</td>\n",
       "      <td>0.08999</td>\n",
       "    </tr>\n",
       "    <tr>\n",
       "      <td>5</td>\n",
       "      <td>843786</td>\n",
       "      <td>1</td>\n",
       "      <td>12.45</td>\n",
       "      <td>15.70</td>\n",
       "      <td>82.57</td>\n",
       "      <td>477.1</td>\n",
       "      <td>0.12780</td>\n",
       "      <td>0.17000</td>\n",
       "      <td>0.15780</td>\n",
       "      <td>0.08089</td>\n",
       "      <td>...</td>\n",
       "      <td>15.47</td>\n",
       "      <td>23.75</td>\n",
       "      <td>103.40</td>\n",
       "      <td>741.6</td>\n",
       "      <td>0.17910</td>\n",
       "      <td>0.5249</td>\n",
       "      <td>0.5355</td>\n",
       "      <td>0.17410</td>\n",
       "      <td>0.3985</td>\n",
       "      <td>0.12440</td>\n",
       "    </tr>\n",
       "  </tbody>\n",
       "</table>\n",
       "<p>100 rows × 32 columns</p>\n",
       "</div>"
      ],
      "text/plain": [
       "           ID  diagnosis  radius_mean  radius_sd_error  radius_worst  \\\n",
       "28     852973          1        15.30            25.27        102.40   \n",
       "328   8953902          1        16.27            20.71        106.90   \n",
       "11   84610002          1        15.78            17.89        103.60   \n",
       "551    923780          0        11.13            22.44         71.49   \n",
       "478    911685          0        11.49            14.59         73.99   \n",
       "..        ...        ...          ...              ...           ...   \n",
       "290  89143602          0        14.41            19.73         96.03   \n",
       "205    879523          1        15.12            16.68         98.78   \n",
       "65     859283          1        14.78            23.94         97.40   \n",
       "499     91485          1        20.59            21.24        137.80   \n",
       "5      843786          1        12.45            15.70         82.57   \n",
       "\n",
       "     texture_mean  texture_sd_error  texture_worst  perimeter_mean  \\\n",
       "28          732.4           0.10820        0.16970         0.16830   \n",
       "328         813.7           0.11690        0.13190         0.14780   \n",
       "11          781.0           0.09710        0.12920         0.09954   \n",
       "551         378.4           0.09566        0.08194         0.04824   \n",
       "478         404.9           0.10460        0.08228         0.05308   \n",
       "..            ...               ...            ...             ...   \n",
       "290         651.0           0.08757        0.16760         0.13620   \n",
       "205         716.6           0.08876        0.09588         0.07550   \n",
       "65          668.3           0.11720        0.14790         0.12670   \n",
       "499        1320.0           0.10850        0.16440         0.21880   \n",
       "5           477.1           0.12780        0.17000         0.15780   \n",
       "\n",
       "     perimeter_sd_error  ...  concavity_worst  concave_points_mean  \\\n",
       "28              0.08751  ...            20.27                36.71   \n",
       "328             0.08488  ...            19.28                30.38   \n",
       "11              0.06606  ...            20.42                27.28   \n",
       "551             0.02257  ...            12.02                28.26   \n",
       "478             0.01969  ...            12.40                21.90   \n",
       "..                  ...  ...              ...                  ...   \n",
       "290             0.06602  ...            15.77                22.13   \n",
       "205             0.04079  ...            17.77                20.24   \n",
       "65              0.09029  ...            17.31                33.39   \n",
       "499             0.11210  ...            23.86                30.76   \n",
       "5               0.08089  ...            15.47                23.75   \n",
       "\n",
       "     concave_points_sd_error  concave_points_worst  symmetry_mean  \\\n",
       "28                    149.30                1269.0        0.16410   \n",
       "328                   129.80                1121.0        0.15900   \n",
       "11                    136.50                1299.0        0.13960   \n",
       "551                    77.80                 436.6        0.10870   \n",
       "478                    82.04                 467.6        0.13520   \n",
       "..                       ...                   ...            ...   \n",
       "290                   101.70                 767.3        0.09983   \n",
       "205                   117.70                 989.5        0.14910   \n",
       "65                    114.60                 925.1        0.16480   \n",
       "499                   163.20                1760.0        0.14640   \n",
       "5                     103.40                 741.6        0.17910   \n",
       "\n",
       "     symmetry_sd_error  symmetry_worst  fractal_dimension_mean  \\\n",
       "28              0.6110          0.6335                 0.20240   \n",
       "328             0.2947          0.3597                 0.15830   \n",
       "11              0.5609          0.3965                 0.18100   \n",
       "551             0.1782          0.1564                 0.06413   \n",
       "478             0.2010          0.2596                 0.07431   \n",
       "..                 ...             ...                     ...   \n",
       "290             0.2472          0.2220                 0.10210   \n",
       "205             0.3331          0.3327                 0.12520   \n",
       "65              0.3416          0.3024                 0.16140   \n",
       "499             0.3597          0.5179                 0.21130   \n",
       "5               0.5249          0.5355                 0.17410   \n",
       "\n",
       "     fractal_dimension_sd_error  fractal_dimension_worst  \n",
       "28                       0.4027                  0.09876  \n",
       "328                      0.3103                  0.08200  \n",
       "11                       0.3792                  0.10480  \n",
       "551                      0.3169                  0.08032  \n",
       "478                      0.2941                  0.09180  \n",
       "..                          ...                      ...  \n",
       "290                      0.2272                  0.08799  \n",
       "205                      0.3415                  0.09740  \n",
       "65                       0.3321                  0.08911  \n",
       "499                      0.2480                  0.08999  \n",
       "5                        0.3985                  0.12440  \n",
       "\n",
       "[100 rows x 32 columns]"
      ]
     },
     "execution_count": 8,
     "metadata": {},
     "output_type": "execute_result"
    }
   ],
   "source": [
    "data.sample(100)"
   ]
  },
  {
   "cell_type": "markdown",
   "metadata": {},
   "source": [
    "# Exploratory Analysis"
   ]
  },
  {
   "cell_type": "code",
   "execution_count": 9,
   "metadata": {},
   "outputs": [
    {
     "data": {
      "image/png": "[encoded data removed]",
      "text/plain": [
       "<Figure size 864x648 with 2 Axes>"
      ]
     },
     "metadata": {
      "needs_background": "light"
     },
     "output_type": "display_data"
    }
   ],
   "source": [
    "import seaborn as sns\n",
    "#correlation matrix\n",
    "corrmat = data.corr()\n",
    "f, ax = plt.subplots(figsize=(12, 9))\n",
    "sns.heatmap(corrmat, vmax=.8, square=True);"
   ]
  },
  {
   "cell_type": "code",
   "execution_count": 10,
   "metadata": {},
   "outputs": [
    {
     "data": {
      "text/plain": [
       "diagnosis                     1.000000\n",
       "fractal_dimension_mean        0.793566\n",
       "concave_points_sd_error       0.782914\n",
       "perimeter_sd_error            0.776614\n",
       "concavity_worst               0.776454\n",
       "radius_worst                  0.742636\n",
       "concave_points_worst          0.733825\n",
       "radius_mean                   0.730029\n",
       "texture_mean                  0.708984\n",
       "perimeter_mean                0.696360\n",
       "symmetry_worst                0.659610\n",
       "texture_worst                 0.596534\n",
       "symmetry_sd_error             0.590998\n",
       "area_sd_error                 0.567134\n",
       "smoothness_mean               0.556141\n",
       "smoothness_sd_error           0.548236\n",
       "concave_points_mean           0.456903\n",
       "symmetry_mean                 0.421465\n",
       "fractal_dimension_sd_error    0.416294\n",
       "radius_sd_error               0.415185\n",
       "compactness_worst             0.408042\n",
       "texture_sd_error              0.358560\n",
       "perimeter_worst               0.330499\n",
       "fractal_dimension_worst       0.323872\n",
       "compactness_mean              0.292999\n",
       "compactness_sd_error          0.253730\n",
       "concavity_sd_error            0.077972\n",
       "ID                            0.039769\n",
       "concavity_mean               -0.006522\n",
       "area_worst                   -0.008303\n",
       "area_mean                    -0.012838\n",
       "smoothness_worst             -0.067016\n",
       "Name: diagnosis, dtype: float64"
      ]
     },
     "execution_count": 10,
     "metadata": {},
     "output_type": "execute_result"
    }
   ],
   "source": [
    "#Pick highest 3 features according to correlation analysis\n",
    "corrmat[\"diagnosis\"].sort_values(ascending=False)"
   ]
  },
  {
   "cell_type": "code",
   "execution_count": 11,
   "metadata": {},
   "outputs": [
    {
     "data": {
      "image/png": "[encoded data removed]",
      "text/plain": [
       "<Figure size 432x288 with 1 Axes>"
      ]
     },
     "metadata": {
      "needs_background": "light"
     },
     "output_type": "display_data"
    }
   ],
   "source": [
    "ax = sns.scatterplot(x=\"fractal_dimension_mean\", y=\"diagnosis\", data=data)"
   ]
  },
  {
   "cell_type": "code",
   "execution_count": 12,
   "metadata": {},
   "outputs": [
    {
     "data": {
      "image/png": "[encoded data removed]",
      "text/plain": [
       "<Figure size 432x288 with 1 Axes>"
      ]
     },
     "metadata": {
      "needs_background": "light"
     },
     "output_type": "display_data"
    }
   ],
   "source": [
    "ax = sns.scatterplot(x=\"concave_points_sd_error\", y=\"diagnosis\", data=data)"
   ]
  },
  {
   "cell_type": "code",
   "execution_count": 13,
   "metadata": {},
   "outputs": [
    {
     "data": {
      "image/png": "[encoded data removed]",
      "text/plain": [
       "<Figure size 432x288 with 1 Axes>"
      ]
     },
     "metadata": {
      "needs_background": "light"
     },
     "output_type": "display_data"
    }
   ],
   "source": [
    "ax = sns.scatterplot(x=\"perimeter_sd_error\", y=\"diagnosis\", data=data)"
   ]
  },
  {
   "cell_type": "markdown",
   "metadata": {},
   "source": [
    "So for the three features with the highest correlation with the target variable we can see that there's an obvious relation between them and the target variable. For all of them the more the value gets the more likely the tumor is Malignant."
   ]
  },
  {
   "cell_type": "markdown",
   "metadata": {},
   "source": [
    "# Modeling"
   ]
  },
  {
   "cell_type": "markdown",
   "metadata": {},
   "source": [
    "## Logistic regression"
   ]
  },
  {
   "cell_type": "code",
   "execution_count": 16,
   "metadata": {},
   "outputs": [
    {
     "name": "stderr",
     "output_type": "stream",
     "text": [
      "c:\\users\\oadel\\appdata\\local\\programs\\python\\python37\\lib\\site-packages\\sklearn\\linear_model\\logistic.py:432: FutureWarning: Default solver will be changed to 'lbfgs' in 0.22. Specify a solver to silence this warning.\n",
      "  FutureWarning)\n"
     ]
    },
    {
     "data": {
      "text/plain": [
       "0.9580740255486406"
      ]
     },
     "execution_count": 16,
     "metadata": {},
     "output_type": "execute_result"
    }
   ],
   "source": [
    "from sklearn.linear_model import LogisticRegression\n",
    "from sklearn.model_selection import train_test_split\n",
    "from sklearn import metrics\n",
    "\n",
    "features = data.drop([\"diagnosis\",\"ID\"],axis=1)\n",
    "target = data[\"diagnosis\"]\n",
    "\n",
    "X_train, X_test, y_train, y_test = train_test_split(features, target, test_size=0.2)\n",
    "\n",
    "logreg = LogisticRegression()\n",
    "logreg.fit(X_train,y_train)\n",
    "\n",
    "predictions=logreg.predict(X_test)\n",
    "\n",
    "fpr, tpr, thresholds = metrics.roc_curve(y_test,predictions)\n",
    "metrics.auc(fpr, tpr)"
   ]
  },
  {
   "cell_type": "markdown",
   "metadata": {},
   "source": [
    "## XGBoost"
   ]
  },
  {
   "cell_type": "code",
   "execution_count": 22,
   "metadata": {},
   "outputs": [
    {
     "data": {
      "text/plain": [
       "0.9580740255486406"
      ]
     },
     "execution_count": 22,
     "metadata": {},
     "output_type": "execute_result"
    }
   ],
   "source": [
    "from xgboost import XGBClassifier\n",
    "\n",
    "xgb = XGBClassifier(verbosity = 1)\n",
    "xgb.fit(X_train, y_train)\n",
    "\n",
    "predictions=xgb.predict(X_test)\n",
    "\n",
    "fpr, tpr, thresholds = metrics.roc_curve(y_test,predictions)\n",
    "metrics.auc(fpr, tpr)"
   ]
  },
  {
   "cell_type": "markdown",
   "metadata": {},
   "source": [
    "## Feature Importance"
   ]
  },
  {
   "cell_type": "code",
   "execution_count": 42,
   "metadata": {},
   "outputs": [],
   "source": [
    "np.sort(xgb.feature_importances_)[-6:]\n",
    "temp = pd.Series(xgb.feature_importances_,index=features.columns)\n",
    "sortedTemp = temp.sort_values(ascending=False)[:6]"
   ]
  },
  {
   "cell_type": "code",
   "execution_count": 43,
   "metadata": {},
   "outputs": [
    {
     "data": {
      "text/plain": [
       "<matplotlib.axes._subplots.AxesSubplot at 0x19dedc55588>"
      ]
     },
     "execution_count": 43,
     "metadata": {},
     "output_type": "execute_result"
    },
    {
     "data": {
      "image/png": "[encoded data removed]",
      "text/plain": [
       "<Figure size 864x648 with 1 Axes>"
      ]
     },
     "metadata": {
      "needs_background": "light"
     },
     "output_type": "display_data"
    }
   ],
   "source": [
    "f, ax = plt.subplots(figsize=(12, 9))\n",
    "sns.barplot(sortedTemp.index,sortedTemp.values)"
   ]
  },
  {
   "cell_type": "markdown",
   "metadata": {},
   "source": [
    "# Explanation"
   ]
  },
  {
   "cell_type": "markdown",
   "metadata": {},
   "source": [
    "## To Technical Audiences"
   ]
  },
  {
   "cell_type": "markdown",
   "metadata": {},
   "source": [
    "- I didn't do extensive EDA, so there might be some insights that i'm missing.\n",
    "- I didn't do any feature engineering so maybe i can do that to improve performance.\n",
    "- I didn't do any hyper-parameters optimization for the models , so we can do that too.\n",
    "- However an AUC of 0.958 indicates a very good model. ( A perfect model has an AUC of 1 as we know)."
   ]
  },
  {
   "cell_type": "markdown",
   "metadata": {},
   "source": [
    "## To Non-Technical Audiences"
   ]
  },
  {
   "cell_type": "markdown",
   "metadata": {},
   "source": [
    "- First I started by taking a look at a randomly picked sample from the dataset. Then i used isna() to check if there are any null values in our dataset (values that's missing). Then to have a quick insight of which features are good for our case, i calculated the correlation (a number indicating the relation between 2 variables, the higher the stronger the relation) between all the features and our target variable. Then i visualized it using heatmap. I then looked at the top 3 features using scatter plot, it was clear that the higher the value of these features the more likely that the tumor is malignant. Then i tried two classification models to make the predictions: Logistic regression & XGBoost. To my surprise they had the exact same score. I used a metric called the area under the ROC curve. Basically, the perfect model (that predicts all values right) has an AUC of 1, a random model has an AUC of 0.5. Our model Had an AUC of 0.958 so that's nearly a perfect model."
   ]
  },
  {
   "attachments": {},
   "cell_type": "markdown",
   "metadata": {},
   "source": [
    "### Logistic regression:\n",
    "Logistic Regression, also known as Logit Regression or Logit Model, is a mathematical model used in statistics to estimate (guess) the probability of an event occurring having been given some previous data. Logistic Regression works with binary data, where either the event happens (1) or the event does not happen (0).\n",
    "### XGBoost:\n",
    "Gradient boosting is a type of machine learning boosting. It relies on the intuition that the best possible next model, when combined with previous models, minimizes the overall prediction error. The key idea is to set the target outcomes for this next model in order to minimize the error."
   ]
  },
  {
   "cell_type": "markdown",
   "metadata": {},
   "source": [
    "# DSI Instructor Task: Part 2"
   ]
  },
  {
   "cell_type": "markdown",
   "metadata": {},
   "source": [
    "## Student 1:\n",
    "## Code"
   ]
  },
  {
   "cell_type": "markdown",
   "metadata": {},
   "source": [
    "In general the code looks neat and well-commented.\n",
    "There are just few comments i would like to give you to make it even better:\n",
    "- cross_val_score function is no longer in module cross_validation, now it's in module model_selection. So you should edit your import statement.\n",
    "- Try to use descriptive names like data instead of d, features instead of x1 and target instead of x2.\n",
    "- Try not to import something multiple times as it's not useful. Also the train_test_split function is no longer part of cross_validation, it's now in module model_selection. Anyway you are not using it here so you don't need to import it at all.\n",
    "- k-fold cross validation requires at least one train / test split. Use cv=2.\n",
    "- Second parameter should be atleast 2D array to be used to predict the outcome."
   ]
  },
  {
   "cell_type": "markdown",
   "metadata": {},
   "source": [
    "## Methodology"
   ]
  },
  {
   "cell_type": "markdown",
   "metadata": {},
   "source": [
    "You did a good job splitting the data into features and labels, then building your model and then you went to scoring.\n",
    "There are some points you need to work on more though:\n",
    "- Given data set has to be validated for missing, mistype or outlier before passing it to the model.\n",
    "- You should always start with EDA before going straight to modelling.\n",
    "- You should pick which features to use based on the EDA you did, not randomly."
   ]
  },
  {
   "cell_type": "markdown",
   "metadata": {},
   "source": [
    "## Conceptual Understanding"
   ]
  },
  {
   "cell_type": "markdown",
   "metadata": {},
   "source": [
    "Getting a right sample data for training, testing and validtion and the correct usage of Exploratory Data Analysis technique to select the features are the critical task before building the ML model."
   ]
  },
  {
   "cell_type": "markdown",
   "metadata": {},
   "source": [
    "## Student 2:\n",
    "## Code"
   ]
  },
  {
   "cell_type": "markdown",
   "metadata": {},
   "source": [
    "In general the code looks neat and well-commented.\n",
    "There are just few comments i would like to give you to make it even better:\n",
    "- cross_val_score function is no longer in module cross_validation, now it's in module model_selection. So you should edit your import statement.\n",
    "- Try to use descriptive names like features instead of x and target instead of y. Also note that you mixed up X & y, You need to swap them.\n",
    "- k-fold cross validation requires at least one train / test split. Use cv=2.\n",
    "- Second parameter should be atleast 2D array to be used to predict the outcome."
   ]
  },
  {
   "cell_type": "markdown",
   "metadata": {},
   "source": [
    "## Methodology"
   ]
  },
  {
   "cell_type": "markdown",
   "metadata": {},
   "source": [
    "You did a good job splitting the data into features and labels, then building your model and then you went to scoring.\n",
    "There are some points you need to work on more though:\n",
    "- Given data set has to be validated for missing, mistype or outlier before passing it to the model.\n",
    "- You should always start with EDA before going straight to modelling.\n",
    "- You should pick which features to use based on the EDA you did, not randomly."
   ]
  },
  {
   "cell_type": "markdown",
   "metadata": {},
   "source": [
    "## Conceptual Understanding"
   ]
  },
  {
   "cell_type": "markdown",
   "metadata": {},
   "source": [
    "Getting a right sample data for training, testing and validtion and the correct usage of Exploratory Data Analysis technique to select the features are the critical task before building the ML model."
   ]
  }
 ],
 "metadata": {
  "kernelspec": {
   "display_name": "Python 3",
   "language": "python",
   "name": "python3"
  },
  "language_info": {
   "codemirror_mode": {
    "name": "ipython",
    "version": 3
   },
   "file_extension": ".py",
   "mimetype": "text/x-python",
   "name": "python",
   "nbconvert_exporter": "python",
   "pygments_lexer": "ipython3",
   "version": "3.7.4"
  }
 },
 "nbformat": 4,
 "nbformat_minor": 2
}
